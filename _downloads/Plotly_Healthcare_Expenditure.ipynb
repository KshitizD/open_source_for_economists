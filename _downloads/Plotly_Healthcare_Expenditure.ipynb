{
 "cells": [
  {
   "cell_type": "markdown",
   "metadata": {},
   "source": [
    "# Plotting health care expenditure by age group \n",
    "\n",
    "We use here the following [data](http://www.cbs.nl/nl-NL/menu/themas/gezondheid-welzijn/cijfers/incidenteel/maatwerk/zorgkosten-vanuit-de-zorgverzekeringswet-naar-leeftijd-en-huishoudensinkomen-2012.htm) We convert this data to csv and load it as dataframe using pandas. Costs are in euro's.\n",
    "\n",
    "This data allows us to analyze the relation between health care expenditure, age and income. One expects that people with a higher income spend more money on health care (health is a \"normal good\"). On the other hand, people with higher incomes tend to be healthier and may spend less on health care. Which effect dominates?\n",
    "\n",
    "Further, one would expect that people spend more on health care as they get older. \n",
    "\n",
    "But people usually see their income rise as well with age. Can we show the effect of income and age separately in one graph?\n"
   ]
  },
  {
   "cell_type": "code",
   "execution_count": 1,
   "metadata": {
    "collapsed": true
   },
   "outputs": [],
   "source": [
    "import pandas as pd\n",
    "import plotly.plotly as py\n",
    "from plotly.graph_objs import *\n",
    "import plotly.tools as tls\n",
    "import numpy as np\n",
    "\n",
    "\n",
    "df = pd.read_csv(\"zorgkostenvanuitdezorgverzekeringswetnaarleeftijdenhuishoudensinkomen2012.csv\", \\\n",
    "                 sep=',',skipinitialspace=True, header = 1)"
   ]
  },
  {
   "cell_type": "markdown",
   "metadata": {},
   "source": [
    "If you want to see what this data look like, type `df` in an empty cell and shift-enter."
   ]
  },
  {
   "cell_type": "markdown",
   "metadata": {},
   "source": [
    "The data contains 5 age categories (\"Leeftijdsklasse\" in Dutch) and for each age category we have 5 quantiles of household income (\"Kwintielen huishoudinkomen\").\n",
    "\n",
    "Other columns are deciles of health care expenditures (\"decielen zorgkosten\"), average health care expenditures covered by basic insurance (\"gemiddelde zvw kosten\"), average costs without primary physician (\"gemiddelde kosten excl. huisartsenzorg\"), average costs without primary physician and birth care (\"gemiddelde kosten excl. huisartsenzorg en geboortezorg\"), average household income (\"gemiddeld besteedbaar huishoudensinkomen\") and number of people (\"aantal personen\") per row in the table.\n",
    "\n",
    "To see, for instance, the age categories used and the quantiles, one can use a command like:"
   ]
  },
  {
   "cell_type": "code",
   "execution_count": 2,
   "metadata": {
    "collapsed": false
   },
   "outputs": [
    {
     "name": "stdout",
     "output_type": "stream",
     "text": [
      "['0 t/m 19 jaar', '20 t/m 39 jaar', '40 t/m 59 jaar', '60 t/m 79 jaar', '80 jaar en ouder']\n",
      "['1e kwintiel', '2e kwintiel', '3e kwintiel', '4e kwintiel', '5e kwintiel']\n"
     ]
    }
   ],
   "source": [
    "print [age for age in sorted(set(df['Leeftijdsklasse']))]\n",
    "print [age for age in sorted(set(df['Kwintielen huishoudinkomen']))]\n"
   ]
  },
  {
   "cell_type": "markdown",
   "metadata": {
    "collapsed": false
   },
   "source": [
    "We want to plot health care expenditures against household income. In order to do this, we calculate average household income for each age-income category and the average health care expenditures covered by basic insurance.\n",
    "\n",
    "We create two dictionaries (one for income, one for health care costs). A dictionary contains for each age group, the vector of variables (income, costs resp.) \n"
   ]
  },
  {
   "cell_type": "code",
   "execution_count": 3,
   "metadata": {
    "collapsed": false
   },
   "outputs": [],
   "source": [
    "income_average = {}\n",
    "cost_average = {}\n",
    "for age in sorted(set(df['Leeftijdsklasse'])):\n",
    "    income_average[age] = [np.mean(df[df['Leeftijdsklasse']==age]['Gemiddeld besteedbaar huishoudensinkomen']\\\n",
    "                                   [df['Kwintielen huishoudinkomen']==income]) for income in \\\n",
    "                           sorted(set(df['Kwintielen huishoudinkomen']))]\n",
    "    cost_average[age] =   [np.mean(df[df['Leeftijdsklasse']==age]['Gemiddelde Zvw kosten']\\\n",
    "                                   [df['Kwintielen huishoudinkomen']==income]) for income in \\\n",
    "                           sorted(set(df['Kwintielen huishoudinkomen']))]"
   ]
  },
  {
   "cell_type": "markdown",
   "metadata": {},
   "source": [
    "Plotly works with `Scatter` to combine data and characteristics of the plots (like \"markers+lines\", the text you see when hovering over the plotted line)."
   ]
  },
  {
   "cell_type": "code",
   "execution_count": 4,
   "metadata": {
    "collapsed": false
   },
   "outputs": [
    {
     "data": {
      "text/html": [
       "<iframe id=\"igraph\" scrolling=\"no\" style=\"border:none;\"seamless=\"seamless\" src=\"https://plot.ly/~janboone/56.embed\" height=\"525\" width=\"100%\"></iframe>"
      ],
      "text/plain": [
       "<plotly.tools.PlotlyDisplay object>"
      ]
     },
     "execution_count": 4,
     "metadata": {},
     "output_type": "execute_result"
    }
   ],
   "source": [
    "age0_19 = Scatter(\n",
    "    x=income_average['0 t/m 19 jaar'],\n",
    "    y=cost_average['0 t/m 19 jaar'],\n",
    "    mode='markers+lines', \n",
    "    name = '0 t/m 19 jaar',\n",
    "    text = sorted(set(df['Kwintielen huishoudinkomen']))\n",
    ")\n",
    "age20_39 = Scatter(\n",
    "    x=income_average['20 t/m 39 jaar'],\n",
    "    y=cost_average['20 t/m 39 jaar'],\n",
    "    mode='markers+lines',\n",
    "    name = '20 t/m 39 jaar',\n",
    "    text = sorted(set(df['Kwintielen huishoudinkomen']))\n",
    ")\n",
    "\n",
    "age40_59 = Scatter(\n",
    "    x=income_average['40 t/m 59 jaar'],\n",
    "    y=cost_average['40 t/m 59 jaar'],\n",
    "    mode='markers+lines', \n",
    "    name = '40 t/m 59 jaar',\n",
    "    text = sorted(set(df['Kwintielen huishoudinkomen']))\n",
    ")\n",
    "age60_79 = Scatter(\n",
    "    x=income_average['60 t/m 79 jaar'],\n",
    "    y=cost_average['60 t/m 79 jaar'],\n",
    "    mode='markers+lines',\n",
    "    name = '60 t/m 79 jaar',\n",
    "    text = sorted(set(df['Kwintielen huishoudinkomen']))\n",
    ")\n",
    "age80 = Scatter(\n",
    "    x=income_average['80 jaar en ouder'],\n",
    "    y=cost_average['80 jaar en ouder'],\n",
    "    mode='markers+lines',\n",
    "    name = '80 jaar en ouder',\n",
    "    text = sorted(set(df['Kwintielen huishoudinkomen']))\n",
    ")\n",
    "\n",
    "\n",
    "\n",
    "\n",
    "\n",
    "layout = Layout(\n",
    "    title='Health care expend. vs. income for different age cohorts in the Netherlands 2012',\n",
    "    xaxis=XAxis(\n",
    "        title='income',\n",
    "        titlefont=Font(\n",
    "            family='Courier New, monospace',\n",
    "            size=18,\n",
    "            color='#7f7f7f'\n",
    "        )\n",
    "    ),\n",
    "    yaxis=YAxis(\n",
    "        title='health care expenditure',\n",
    "        titlefont=Font(\n",
    "            family='Courier New, monospace',\n",
    "            size=18,\n",
    "            color='#7f7f7f'\n",
    "        )\n",
    "    )\n",
    ")\n",
    "\n",
    "data = Data([age0_19,age20_39,age40_59,age60_79,age80])\n",
    "fig = Figure(data=data, layout=layout)\n",
    "py.plot(fig, filename='scatter income health care costs')\n",
    "tls.embed(\"https://plot.ly/~janboone/56\")"
   ]
  },
  {
   "cell_type": "markdown",
   "metadata": {
    "collapsed": true
   },
   "source": [
    "By clicking on the legend, you can make lines (dis)appear. By hovering over the lines, you can see more information."
   ]
  },
  {
   "cell_type": "markdown",
   "metadata": {},
   "source": [
    "Coming back to the questions in the beginning:\n",
    "\n",
    "* what is the relation between income and health care expenditure?\n",
    "* between age and health care expenditure?\n",
    "* between age and income?"
   ]
  },
  {
   "cell_type": "code",
   "execution_count": null,
   "metadata": {
    "collapsed": true
   },
   "outputs": [],
   "source": []
  }
 ],
 "metadata": {
  "kernelspec": {
   "display_name": "Python 2",
   "language": "python",
   "name": "python2"
  },
  "language_info": {
   "codemirror_mode": {
    "name": "ipython",
    "version": 2
   },
   "file_extension": ".py",
   "mimetype": "text/x-python",
   "name": "python",
   "nbconvert_exporter": "python",
   "pygments_lexer": "ipython2",
   "version": "2.7.6"
  }
 },
 "nbformat": 4,
 "nbformat_minor": 0
}
